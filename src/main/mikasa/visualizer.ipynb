{
 "cells": [
  {
   "cell_type": "code",
   "execution_count": 1,
   "id": "ea7777db-f6e9-43ad-81d7-82fbf97527e7",
   "metadata": {},
   "outputs": [],
   "source": [
    "import optimizer_test\n",
    "import networkx as nx\n",
    "import random"
   ]
  },
  {
   "cell_type": "code",
   "execution_count": 2,
   "id": "38637b2c-3ac2-4d0f-a27f-3ca4df0aa148",
   "metadata": {},
   "outputs": [],
   "source": [
    "def build_graph(solution):\n",
    "    G = nx.MultiDiGraph()\n",
    "    for parent in solution.keys():\n",
    "        for child in solution[parent]:\n",
    "            G.add_edge(parent, child)\n",
    "            \n",
    "    return G"
   ]
  },
  {
   "cell_type": "code",
   "execution_count": null,
   "id": "58069641-a832-4142-a035-8b96f7ad53ec",
   "metadata": {},
   "outputs": [],
   "source": [
    "demo_capacity = optimizer_test.minmaxnorm([random.randint(0,50) for i in range(10)])"
   ]
  },
  {
   "cell_type": "code",
   "execution_count": null,
   "id": "f347cc9b-1a36-4068-a3f0-df0eb723e7c0",
   "metadata": {},
   "outputs": [],
   "source": [
    "solution = build_graph(optimizer_test.solve_network(demo_capacity))\n",
    "nx.draw(solution, with_labels=True, node_size=[demo_capacity[i]*500+10 for i in solution.nodes()])"
   ]
  },
  {
   "cell_type": "code",
   "execution_count": null,
   "id": "cf7b827f-3cd3-4d0b-9356-f117e132b296",
   "metadata": {},
   "outputs": [],
   "source": []
  }
 ],
 "metadata": {
  "kernelspec": {
   "display_name": "Python 3 (ipykernel)",
   "language": "python",
   "name": "python3"
  },
  "language_info": {
   "codemirror_mode": {
    "name": "ipython",
    "version": 3
   },
   "file_extension": ".py",
   "mimetype": "text/x-python",
   "name": "python",
   "nbconvert_exporter": "python",
   "pygments_lexer": "ipython3",
   "version": "3.9.5"
  }
 },
 "nbformat": 4,
 "nbformat_minor": 5
}
